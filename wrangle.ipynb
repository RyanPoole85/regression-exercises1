{
 "cells": [
  {
   "cell_type": "code",
   "execution_count": 1,
   "id": "c5a0d889",
   "metadata": {},
   "outputs": [],
   "source": [
    "import pandas as pd\n",
    "import numpy as np\n",
    "\n",
    "import seaborn as sns\n",
    "import matplotlib.pyplot as plt\n",
    "\n",
    "from sklearn.model_selection import train_test_split\n",
    "\n",
    "import env\n",
    "import os"
   ]
  },
  {
   "cell_type": "markdown",
   "id": "cfdc8161",
   "metadata": {},
   "source": [
    "1. Acquire bedroomcnt, bathroomcnt, calculatedfinishedsquarefeet, taxvaluedollarcnt, yearbuilt, taxamount, and fips from the zillow database for all 'Single Family Residential' properties.\n"
   ]
  },
  {
   "cell_type": "code",
   "execution_count": 2,
   "id": "8bb12c10",
   "metadata": {},
   "outputs": [],
   "source": [
    "def get_zillow_data():\n",
    "    '''\n",
    "    function pulls zillow data from the MySQL Codeup db into a dataframe.\n",
    "    '''\n",
    "    url = env.get_db_url('zillow')\n",
    "    query = '''\n",
    "    select bedroomcnt, bathroomcnt,calculatedfinishedsquarefeet, taxvaluedollarcnt,\n",
    "\tyearbuilt, taxamount, fips from properties_2017\n",
    "    join propertylandusetype using (propertylandusetypeid)\n",
    "    where propertylandusedesc in ('Single Family Residential');\n",
    "    '''\n",
    "    \n",
    "    filename = 'zillow.csv'\n",
    "\n",
    "    #call the check_file_exists fuction \n",
    "    df = check_file_exists(filename, query, url)\n",
    "    return df\n",
    "\n",
    "def check_file_exists(filename, query, url):\n",
    "    '''\n",
    "    checks if file already exists.\n",
    "    '''\n",
    "    if os.path.exists(filename):\n",
    "        print('this file exists, reading csv')\n",
    "        df = pd.read_csv(filename, index_col=0)\n",
    "    else:\n",
    "        print('this file doesnt exist, read from sql, and export to csv')\n",
    "        df = pd.read_sql(query, url)\n",
    "        df.to_csv(filename)\n",
    "        \n",
    "    return df"
   ]
  },
  {
   "cell_type": "code",
   "execution_count": 3,
   "id": "c84ee9fc",
   "metadata": {},
   "outputs": [
    {
     "name": "stdout",
     "output_type": "stream",
     "text": [
      "this file exists, reading csv\n"
     ]
    }
   ],
   "source": [
    "df = get_zillow_data()"
   ]
  },
  {
   "cell_type": "markdown",
   "id": "9e5b334b",
   "metadata": {},
   "source": [
    "2. Using your acquired Zillow data, walk through the summarization and cleaning steps in your wrangle.ipynb file like we did above. You may handle the missing values however you feel is appropriate and meaningful; remember to document your process and decisions using markdown and code commenting where helpful.\n"
   ]
  },
  {
   "cell_type": "code",
   "execution_count": 4,
   "id": "c2d07e19",
   "metadata": {},
   "outputs": [
    {
     "data": {
      "text/html": [
       "<div>\n",
       "<style scoped>\n",
       "    .dataframe tbody tr th:only-of-type {\n",
       "        vertical-align: middle;\n",
       "    }\n",
       "\n",
       "    .dataframe tbody tr th {\n",
       "        vertical-align: top;\n",
       "    }\n",
       "\n",
       "    .dataframe thead th {\n",
       "        text-align: right;\n",
       "    }\n",
       "</style>\n",
       "<table border=\"1\" class=\"dataframe\">\n",
       "  <thead>\n",
       "    <tr style=\"text-align: right;\">\n",
       "      <th></th>\n",
       "      <th>bedroomcnt</th>\n",
       "      <th>bathroomcnt</th>\n",
       "      <th>calculatedfinishedsquarefeet</th>\n",
       "      <th>taxvaluedollarcnt</th>\n",
       "      <th>yearbuilt</th>\n",
       "      <th>taxamount</th>\n",
       "      <th>fips</th>\n",
       "    </tr>\n",
       "  </thead>\n",
       "  <tbody>\n",
       "    <tr>\n",
       "      <th>0</th>\n",
       "      <td>0.0</td>\n",
       "      <td>0.0</td>\n",
       "      <td>NaN</td>\n",
       "      <td>27516.0</td>\n",
       "      <td>NaN</td>\n",
       "      <td>NaN</td>\n",
       "      <td>6037.0</td>\n",
       "    </tr>\n",
       "    <tr>\n",
       "      <th>1</th>\n",
       "      <td>0.0</td>\n",
       "      <td>0.0</td>\n",
       "      <td>NaN</td>\n",
       "      <td>10.0</td>\n",
       "      <td>NaN</td>\n",
       "      <td>NaN</td>\n",
       "      <td>6037.0</td>\n",
       "    </tr>\n",
       "    <tr>\n",
       "      <th>2</th>\n",
       "      <td>0.0</td>\n",
       "      <td>0.0</td>\n",
       "      <td>NaN</td>\n",
       "      <td>10.0</td>\n",
       "      <td>NaN</td>\n",
       "      <td>NaN</td>\n",
       "      <td>6037.0</td>\n",
       "    </tr>\n",
       "    <tr>\n",
       "      <th>3</th>\n",
       "      <td>0.0</td>\n",
       "      <td>0.0</td>\n",
       "      <td>NaN</td>\n",
       "      <td>2108.0</td>\n",
       "      <td>NaN</td>\n",
       "      <td>174.21</td>\n",
       "      <td>6037.0</td>\n",
       "    </tr>\n",
       "    <tr>\n",
       "      <th>4</th>\n",
       "      <td>4.0</td>\n",
       "      <td>2.0</td>\n",
       "      <td>3633.0</td>\n",
       "      <td>296425.0</td>\n",
       "      <td>2005.0</td>\n",
       "      <td>6941.39</td>\n",
       "      <td>6037.0</td>\n",
       "    </tr>\n",
       "  </tbody>\n",
       "</table>\n",
       "</div>"
      ],
      "text/plain": [
       "   bedroomcnt  bathroomcnt  calculatedfinishedsquarefeet  taxvaluedollarcnt  \\\n",
       "0         0.0          0.0                           NaN            27516.0   \n",
       "1         0.0          0.0                           NaN               10.0   \n",
       "2         0.0          0.0                           NaN               10.0   \n",
       "3         0.0          0.0                           NaN             2108.0   \n",
       "4         4.0          2.0                        3633.0           296425.0   \n",
       "\n",
       "   yearbuilt  taxamount    fips  \n",
       "0        NaN        NaN  6037.0  \n",
       "1        NaN        NaN  6037.0  \n",
       "2        NaN        NaN  6037.0  \n",
       "3        NaN     174.21  6037.0  \n",
       "4     2005.0    6941.39  6037.0  "
      ]
     },
     "execution_count": 4,
     "metadata": {},
     "output_type": "execute_result"
    }
   ],
   "source": [
    "df.head()"
   ]
  },
  {
   "cell_type": "code",
   "execution_count": 5,
   "id": "2d2609cd",
   "metadata": {},
   "outputs": [
    {
     "data": {
      "text/plain": [
       "(2152863, 7)"
      ]
     },
     "execution_count": 5,
     "metadata": {},
     "output_type": "execute_result"
    }
   ],
   "source": [
    "df.shape"
   ]
  },
  {
   "cell_type": "code",
   "execution_count": 6,
   "id": "dcd6eb6e",
   "metadata": {
    "scrolled": true
   },
   "outputs": [
    {
     "data": {
      "text/plain": [
       "15070041"
      ]
     },
     "execution_count": 6,
     "metadata": {},
     "output_type": "execute_result"
    }
   ],
   "source": [
    "df.size"
   ]
  },
  {
   "cell_type": "code",
   "execution_count": 7,
   "id": "4c6cf551",
   "metadata": {},
   "outputs": [
    {
     "name": "stdout",
     "output_type": "stream",
     "text": [
      "<class 'pandas.core.frame.DataFrame'>\n",
      "Index: 2152863 entries, 0 to 2152862\n",
      "Data columns (total 7 columns):\n",
      " #   Column                        Dtype  \n",
      "---  ------                        -----  \n",
      " 0   bedroomcnt                    float64\n",
      " 1   bathroomcnt                   float64\n",
      " 2   calculatedfinishedsquarefeet  float64\n",
      " 3   taxvaluedollarcnt             float64\n",
      " 4   yearbuilt                     float64\n",
      " 5   taxamount                     float64\n",
      " 6   fips                          float64\n",
      "dtypes: float64(7)\n",
      "memory usage: 131.4 MB\n"
     ]
    }
   ],
   "source": [
    "df.info()"
   ]
  },
  {
   "cell_type": "markdown",
   "id": "93ec0eb1",
   "metadata": {},
   "source": [
    "- all columns are float dtypes\n",
    "- my target variable is taxvaluedollarcnt\n",
    "- each row is a property with how much it cost including tax, the amount of bedrooms, bathrooms, square feet, year built, taxes, and it's fips code which is state and county code"
   ]
  },
  {
   "cell_type": "code",
   "execution_count": 8,
   "id": "58b221d9",
   "metadata": {},
   "outputs": [
    {
     "data": {
      "text/plain": [
       "fips\n",
       "6037.0    1431811\n",
       "6059.0     555077\n",
       "6111.0     165975\n",
       "Name: count, dtype: int64"
      ]
     },
     "execution_count": 8,
     "metadata": {},
     "output_type": "execute_result"
    }
   ],
   "source": [
    "#checking value counts for fips column\n",
    "df.fips.value_counts()"
   ]
  },
  {
   "cell_type": "code",
   "execution_count": 9,
   "id": "64f183c4",
   "metadata": {},
   "outputs": [
    {
     "data": {
      "text/plain": [
       "bedroomcnt                        11\n",
       "bathroomcnt                       11\n",
       "calculatedfinishedsquarefeet    8484\n",
       "taxvaluedollarcnt                493\n",
       "yearbuilt                       9337\n",
       "taxamount                       4442\n",
       "fips                               0\n",
       "dtype: int64"
      ]
     },
     "execution_count": 9,
     "metadata": {},
     "output_type": "execute_result"
    }
   ],
   "source": [
    "#checking null counts\n",
    "df.isnull().sum()"
   ]
  },
  {
   "cell_type": "code",
   "execution_count": 10,
   "id": "e5aacf77",
   "metadata": {},
   "outputs": [],
   "source": [
    "#dropping all null\n",
    "df = df.dropna()"
   ]
  },
  {
   "cell_type": "code",
   "execution_count": 11,
   "id": "bd7e7a98",
   "metadata": {},
   "outputs": [
    {
     "data": {
      "text/plain": [
       "bedroomcnt                      0\n",
       "bathroomcnt                     0\n",
       "calculatedfinishedsquarefeet    0\n",
       "taxvaluedollarcnt               0\n",
       "yearbuilt                       0\n",
       "taxamount                       0\n",
       "fips                            0\n",
       "dtype: int64"
      ]
     },
     "execution_count": 11,
     "metadata": {},
     "output_type": "execute_result"
    }
   ],
   "source": [
    "#verifying null count\n",
    "df.isnull().sum()"
   ]
  },
  {
   "cell_type": "code",
   "execution_count": 12,
   "id": "e8ef1cc9",
   "metadata": {
    "scrolled": true
   },
   "outputs": [
    {
     "data": {
      "text/html": [
       "<div>\n",
       "<style scoped>\n",
       "    .dataframe tbody tr th:only-of-type {\n",
       "        vertical-align: middle;\n",
       "    }\n",
       "\n",
       "    .dataframe tbody tr th {\n",
       "        vertical-align: top;\n",
       "    }\n",
       "\n",
       "    .dataframe thead th {\n",
       "        text-align: right;\n",
       "    }\n",
       "</style>\n",
       "<table border=\"1\" class=\"dataframe\">\n",
       "  <thead>\n",
       "    <tr style=\"text-align: right;\">\n",
       "      <th></th>\n",
       "      <th>count</th>\n",
       "      <th>mean</th>\n",
       "      <th>std</th>\n",
       "      <th>min</th>\n",
       "      <th>25%</th>\n",
       "      <th>50%</th>\n",
       "      <th>75%</th>\n",
       "      <th>max</th>\n",
       "    </tr>\n",
       "  </thead>\n",
       "  <tbody>\n",
       "    <tr>\n",
       "      <th>bedroomcnt</th>\n",
       "      <td>2140235.0</td>\n",
       "      <td>3.301419</td>\n",
       "      <td>0.932600</td>\n",
       "      <td>0.00</td>\n",
       "      <td>3.00</td>\n",
       "      <td>3.00</td>\n",
       "      <td>4.00</td>\n",
       "      <td>25.00</td>\n",
       "    </tr>\n",
       "    <tr>\n",
       "      <th>bathroomcnt</th>\n",
       "      <td>2140235.0</td>\n",
       "      <td>2.240352</td>\n",
       "      <td>0.990549</td>\n",
       "      <td>0.00</td>\n",
       "      <td>2.00</td>\n",
       "      <td>2.00</td>\n",
       "      <td>3.00</td>\n",
       "      <td>32.00</td>\n",
       "    </tr>\n",
       "    <tr>\n",
       "      <th>calculatedfinishedsquarefeet</th>\n",
       "      <td>2140235.0</td>\n",
       "      <td>1863.193970</td>\n",
       "      <td>1221.754161</td>\n",
       "      <td>1.00</td>\n",
       "      <td>1258.00</td>\n",
       "      <td>1623.00</td>\n",
       "      <td>2208.00</td>\n",
       "      <td>952576.00</td>\n",
       "    </tr>\n",
       "    <tr>\n",
       "      <th>taxvaluedollarcnt</th>\n",
       "      <td>2140235.0</td>\n",
       "      <td>460641.625164</td>\n",
       "      <td>677157.635675</td>\n",
       "      <td>22.00</td>\n",
       "      <td>189166.00</td>\n",
       "      <td>328296.00</td>\n",
       "      <td>534606.00</td>\n",
       "      <td>90188462.00</td>\n",
       "    </tr>\n",
       "    <tr>\n",
       "      <th>yearbuilt</th>\n",
       "      <td>2140235.0</td>\n",
       "      <td>1960.967545</td>\n",
       "      <td>22.150563</td>\n",
       "      <td>1801.00</td>\n",
       "      <td>1949.00</td>\n",
       "      <td>1958.00</td>\n",
       "      <td>1976.00</td>\n",
       "      <td>2016.00</td>\n",
       "    </tr>\n",
       "    <tr>\n",
       "      <th>taxamount</th>\n",
       "      <td>2140235.0</td>\n",
       "      <td>5616.711322</td>\n",
       "      <td>7814.562798</td>\n",
       "      <td>6.34</td>\n",
       "      <td>2540.85</td>\n",
       "      <td>4111.47</td>\n",
       "      <td>6411.93</td>\n",
       "      <td>1078101.87</td>\n",
       "    </tr>\n",
       "    <tr>\n",
       "      <th>fips</th>\n",
       "      <td>2140235.0</td>\n",
       "      <td>6048.309556</td>\n",
       "      <td>20.344910</td>\n",
       "      <td>6037.00</td>\n",
       "      <td>6037.00</td>\n",
       "      <td>6037.00</td>\n",
       "      <td>6059.00</td>\n",
       "      <td>6111.00</td>\n",
       "    </tr>\n",
       "  </tbody>\n",
       "</table>\n",
       "</div>"
      ],
      "text/plain": [
       "                                  count           mean            std  \\\n",
       "bedroomcnt                    2140235.0       3.301419       0.932600   \n",
       "bathroomcnt                   2140235.0       2.240352       0.990549   \n",
       "calculatedfinishedsquarefeet  2140235.0    1863.193970    1221.754161   \n",
       "taxvaluedollarcnt             2140235.0  460641.625164  677157.635675   \n",
       "yearbuilt                     2140235.0    1960.967545      22.150563   \n",
       "taxamount                     2140235.0    5616.711322    7814.562798   \n",
       "fips                          2140235.0    6048.309556      20.344910   \n",
       "\n",
       "                                  min        25%        50%        75%  \\\n",
       "bedroomcnt                       0.00       3.00       3.00       4.00   \n",
       "bathroomcnt                      0.00       2.00       2.00       3.00   \n",
       "calculatedfinishedsquarefeet     1.00    1258.00    1623.00    2208.00   \n",
       "taxvaluedollarcnt               22.00  189166.00  328296.00  534606.00   \n",
       "yearbuilt                     1801.00    1949.00    1958.00    1976.00   \n",
       "taxamount                        6.34    2540.85    4111.47    6411.93   \n",
       "fips                          6037.00    6037.00    6037.00    6059.00   \n",
       "\n",
       "                                      max  \n",
       "bedroomcnt                          25.00  \n",
       "bathroomcnt                         32.00  \n",
       "calculatedfinishedsquarefeet    952576.00  \n",
       "taxvaluedollarcnt             90188462.00  \n",
       "yearbuilt                         2016.00  \n",
       "taxamount                      1078101.87  \n",
       "fips                              6111.00  "
      ]
     },
     "execution_count": 12,
     "metadata": {},
     "output_type": "execute_result"
    }
   ],
   "source": [
    "df.describe().T"
   ]
  },
  {
   "cell_type": "markdown",
   "id": "83b9cb94",
   "metadata": {},
   "source": [
    "changed the datatypes of the 3 columns below from floats"
   ]
  },
  {
   "cell_type": "code",
   "execution_count": 13,
   "id": "563bf588",
   "metadata": {},
   "outputs": [],
   "source": [
    "#changed calculatedfinishedsquarefeet datatype to int\n",
    "df.calculatedfinishedsquarefeet = df.calculatedfinishedsquarefeet.astype(int)"
   ]
  },
  {
   "cell_type": "code",
   "execution_count": 14,
   "id": "bd454407",
   "metadata": {},
   "outputs": [],
   "source": [
    "#changed yearbuilt datatype to int\n",
    "df.yearbuilt = df.yearbuilt.astype(int)"
   ]
  },
  {
   "cell_type": "code",
   "execution_count": 15,
   "id": "386e23a5",
   "metadata": {},
   "outputs": [],
   "source": [
    "#changed fips datatype to object because it is a state and county code\n",
    "df.fips = df.fips.astype(object)"
   ]
  },
  {
   "cell_type": "code",
   "execution_count": 16,
   "id": "c92eeaf1",
   "metadata": {},
   "outputs": [
    {
     "data": {
      "text/plain": [
       "bedroomcnt                      float64\n",
       "bathroomcnt                     float64\n",
       "calculatedfinishedsquarefeet      int64\n",
       "taxvaluedollarcnt               float64\n",
       "yearbuilt                         int64\n",
       "taxamount                       float64\n",
       "fips                             object\n",
       "dtype: object"
      ]
     },
     "execution_count": 16,
     "metadata": {},
     "output_type": "execute_result"
    }
   ],
   "source": [
    "#verifying datatypes after change\n",
    "df.dtypes"
   ]
  },
  {
   "cell_type": "code",
   "execution_count": 17,
   "id": "fbeb9a2f",
   "metadata": {},
   "outputs": [
    {
     "data": {
      "image/png": "[encoded data removed]",
      "text/plain": [
       "<Figure size 1600x300 with 3 Axes>"
      ]
     },
     "metadata": {},
     "output_type": "display_data"
    }
   ],
   "source": [
    "plt.figure(figsize=(16, 3))\n",
    "\n",
    "# List of columns\n",
    "cols = ['bedroomcnt', 'bathroomcnt', 'yearbuilt']\n",
    "\n",
    "for i, col in enumerate(cols):\n",
    "\n",
    "    # i starts at 0, but plot nos should start at 1\n",
    "    plot_number = i + 1 \n",
    "\n",
    "    # Create subplot.\n",
    "    plt.subplot(1,3, plot_number)\n",
    "\n",
    "    # Title with column name.\n",
    "    plt.title(col)\n",
    "\n",
    "    # Display histogram for column.\n",
    "    df[col].hist(bins=30)\n",
    "\n",
    "    # Hide gridlines.\n",
    "    plt.grid(False)"
   ]
  },
  {
   "cell_type": "code",
   "execution_count": 18,
   "id": "a0d3aec5",
   "metadata": {},
   "outputs": [
    {
     "name": "stdout",
     "output_type": "stream",
     "text": [
      "<class 'pandas.core.frame.DataFrame'>\n",
      "Index: 2140235 entries, 4 to 2152862\n",
      "Data columns (total 7 columns):\n",
      " #   Column                        Dtype  \n",
      "---  ------                        -----  \n",
      " 0   bedroomcnt                    float64\n",
      " 1   bathroomcnt                   float64\n",
      " 2   calculatedfinishedsquarefeet  int64  \n",
      " 3   taxvaluedollarcnt             float64\n",
      " 4   yearbuilt                     int64  \n",
      " 5   taxamount                     float64\n",
      " 6   fips                          object \n",
      "dtypes: float64(4), int64(2), object(1)\n",
      "memory usage: 130.6+ MB\n"
     ]
    }
   ],
   "source": [
    "df.info()"
   ]
  },
  {
   "cell_type": "code",
   "execution_count": 19,
   "id": "6ca90d1b",
   "metadata": {},
   "outputs": [
    {
     "data": {
      "text/html": [
       "<div>\n",
       "<style scoped>\n",
       "    .dataframe tbody tr th:only-of-type {\n",
       "        vertical-align: middle;\n",
       "    }\n",
       "\n",
       "    .dataframe tbody tr th {\n",
       "        vertical-align: top;\n",
       "    }\n",
       "\n",
       "    .dataframe thead th {\n",
       "        text-align: right;\n",
       "    }\n",
       "</style>\n",
       "<table border=\"1\" class=\"dataframe\">\n",
       "  <thead>\n",
       "    <tr style=\"text-align: right;\">\n",
       "      <th></th>\n",
       "      <th>bedrooms</th>\n",
       "      <th>bathrooms</th>\n",
       "      <th>square_feet</th>\n",
       "      <th>home_value</th>\n",
       "      <th>yearbuilt</th>\n",
       "      <th>tax</th>\n",
       "      <th>fips</th>\n",
       "    </tr>\n",
       "  </thead>\n",
       "  <tbody>\n",
       "    <tr>\n",
       "      <th>4</th>\n",
       "      <td>4.0</td>\n",
       "      <td>2.0</td>\n",
       "      <td>3633</td>\n",
       "      <td>296425.0</td>\n",
       "      <td>2005</td>\n",
       "      <td>6941.39</td>\n",
       "      <td>6037.0</td>\n",
       "    </tr>\n",
       "    <tr>\n",
       "      <th>6</th>\n",
       "      <td>3.0</td>\n",
       "      <td>4.0</td>\n",
       "      <td>1620</td>\n",
       "      <td>847770.0</td>\n",
       "      <td>2011</td>\n",
       "      <td>10244.94</td>\n",
       "      <td>6037.0</td>\n",
       "    </tr>\n",
       "    <tr>\n",
       "      <th>7</th>\n",
       "      <td>3.0</td>\n",
       "      <td>2.0</td>\n",
       "      <td>2077</td>\n",
       "      <td>646760.0</td>\n",
       "      <td>1926</td>\n",
       "      <td>7924.68</td>\n",
       "      <td>6037.0</td>\n",
       "    </tr>\n",
       "    <tr>\n",
       "      <th>11</th>\n",
       "      <td>0.0</td>\n",
       "      <td>0.0</td>\n",
       "      <td>1200</td>\n",
       "      <td>5328.0</td>\n",
       "      <td>1972</td>\n",
       "      <td>91.60</td>\n",
       "      <td>6037.0</td>\n",
       "    </tr>\n",
       "    <tr>\n",
       "      <th>14</th>\n",
       "      <td>0.0</td>\n",
       "      <td>0.0</td>\n",
       "      <td>171</td>\n",
       "      <td>6920.0</td>\n",
       "      <td>1973</td>\n",
       "      <td>255.17</td>\n",
       "      <td>6037.0</td>\n",
       "    </tr>\n",
       "    <tr>\n",
       "      <th>...</th>\n",
       "      <td>...</td>\n",
       "      <td>...</td>\n",
       "      <td>...</td>\n",
       "      <td>...</td>\n",
       "      <td>...</td>\n",
       "      <td>...</td>\n",
       "      <td>...</td>\n",
       "    </tr>\n",
       "    <tr>\n",
       "      <th>2152856</th>\n",
       "      <td>4.0</td>\n",
       "      <td>4.0</td>\n",
       "      <td>4375</td>\n",
       "      <td>422400.0</td>\n",
       "      <td>2015</td>\n",
       "      <td>13877.56</td>\n",
       "      <td>6037.0</td>\n",
       "    </tr>\n",
       "    <tr>\n",
       "      <th>2152858</th>\n",
       "      <td>4.0</td>\n",
       "      <td>3.0</td>\n",
       "      <td>2262</td>\n",
       "      <td>960756.0</td>\n",
       "      <td>2015</td>\n",
       "      <td>13494.52</td>\n",
       "      <td>6059.0</td>\n",
       "    </tr>\n",
       "    <tr>\n",
       "      <th>2152859</th>\n",
       "      <td>4.0</td>\n",
       "      <td>4.5</td>\n",
       "      <td>3127</td>\n",
       "      <td>536061.0</td>\n",
       "      <td>2014</td>\n",
       "      <td>6244.16</td>\n",
       "      <td>6059.0</td>\n",
       "    </tr>\n",
       "    <tr>\n",
       "      <th>2152861</th>\n",
       "      <td>3.0</td>\n",
       "      <td>2.5</td>\n",
       "      <td>1974</td>\n",
       "      <td>424353.0</td>\n",
       "      <td>2015</td>\n",
       "      <td>5302.70</td>\n",
       "      <td>6059.0</td>\n",
       "    </tr>\n",
       "    <tr>\n",
       "      <th>2152862</th>\n",
       "      <td>4.0</td>\n",
       "      <td>4.0</td>\n",
       "      <td>2110</td>\n",
       "      <td>554009.0</td>\n",
       "      <td>2014</td>\n",
       "      <td>6761.20</td>\n",
       "      <td>6037.0</td>\n",
       "    </tr>\n",
       "  </tbody>\n",
       "</table>\n",
       "<p>2140235 rows × 7 columns</p>\n",
       "</div>"
      ],
      "text/plain": [
       "         bedrooms  bathrooms  square_feet  home_value  yearbuilt       tax  \\\n",
       "4             4.0        2.0         3633    296425.0       2005   6941.39   \n",
       "6             3.0        4.0         1620    847770.0       2011  10244.94   \n",
       "7             3.0        2.0         2077    646760.0       1926   7924.68   \n",
       "11            0.0        0.0         1200      5328.0       1972     91.60   \n",
       "14            0.0        0.0          171      6920.0       1973    255.17   \n",
       "...           ...        ...          ...         ...        ...       ...   \n",
       "2152856       4.0        4.0         4375    422400.0       2015  13877.56   \n",
       "2152858       4.0        3.0         2262    960756.0       2015  13494.52   \n",
       "2152859       4.0        4.5         3127    536061.0       2014   6244.16   \n",
       "2152861       3.0        2.5         1974    424353.0       2015   5302.70   \n",
       "2152862       4.0        4.0         2110    554009.0       2014   6761.20   \n",
       "\n",
       "           fips  \n",
       "4        6037.0  \n",
       "6        6037.0  \n",
       "7        6037.0  \n",
       "11       6037.0  \n",
       "14       6037.0  \n",
       "...         ...  \n",
       "2152856  6037.0  \n",
       "2152858  6059.0  \n",
       "2152859  6059.0  \n",
       "2152861  6059.0  \n",
       "2152862  6037.0  \n",
       "\n",
       "[2140235 rows x 7 columns]"
      ]
     },
     "execution_count": 19,
     "metadata": {},
     "output_type": "execute_result"
    }
   ],
   "source": [
    "#renamed columns\n",
    "df.rename(columns={df.columns[0]: 'bedrooms', df.columns[1]: 'bathrooms', df.columns[2]: 'square_feet',\\\n",
    "                   df.columns[3]: 'home_value', df.columns[5]: 'tax'})"
   ]
  },
  {
   "cell_type": "markdown",
   "id": "11d07e7d",
   "metadata": {},
   "source": [
    "3. Write a function to split your data into train, validate, and test.\n"
   ]
  },
  {
   "cell_type": "code",
   "execution_count": 20,
   "id": "2dd5971a",
   "metadata": {},
   "outputs": [],
   "source": [
    "def splitting_data(df):\n",
    "    '''\n",
    "    Takes in a df and a column (target variable) and splits into df, validate and test. \n",
    "    Ex: df, validate, test = prepare_telco.splitting_data(df, 'churn')\n",
    "    '''\n",
    "\n",
    "    #first split\n",
    "    train, validate_test = train_test_split(df,\n",
    "                     train_size=0.6,\n",
    "                     random_state=123\n",
    "                    )\n",
    "    \n",
    "    #second split\n",
    "    validate, test = train_test_split(validate_test,\n",
    "                                     train_size=0.5,\n",
    "                                      random_state=123\n",
    "                        )\n",
    "    return train, validate, test"
   ]
  },
  {
   "cell_type": "markdown",
   "id": "85845a05",
   "metadata": {},
   "source": [
    "4. Store all of the necessary functions to automate your process from acquiring the data to returning a cleaned dataframe with no missing values in your wrangle.py file. Name your final function wrangle_zillow."
   ]
  },
  {
   "cell_type": "code",
   "execution_count": 23,
   "id": "bdf59895",
   "metadata": {},
   "outputs": [],
   "source": [
    "def get_connection_url(db, user=env.user, host=env.host, password=env.password):\n",
    "    \"\"\"\n",
    "    This function takes in 1 positional arguement and checks for username, host, and password credentials from imported env module. \n",
    "    Returns a formatted connection url to access mySQL database.\n",
    "    \"\"\"\n",
    "    return f'mysql+pymysql://{user}:{password}@{host}/{db}'\n",
    "    \n",
    "\n",
    "def check_file_exists(filename, query, url):\n",
    "    '''\n",
    "    checks if file already exists.\n",
    "    '''\n",
    "    if os.path.exists(filename):\n",
    "        print('this file exists, reading csv')\n",
    "        df = pd.read_csv(filename, index_col=0)\n",
    "    else:\n",
    "        print('this file doesnt exist, read from sql, and export to csv')\n",
    "        df = pd.read_sql(query, url)\n",
    "        df.to_csv(filename)\n",
    "        \n",
    "    return df\n",
    "\n",
    "\n",
    "def get_zillow_data():\n",
    "    '''\n",
    "    function pulls zillow data from the MySQL Codeup db into a dataframe.\n",
    "    '''\n",
    "    url = env.get_db_url('zillow')\n",
    "    query = '''\n",
    "    select bedroomcnt, bathroomcnt,calculatedfinishedsquarefeet, taxvaluedollarcnt,\n",
    "\tyearbuilt, taxamount, fips from properties_2017\n",
    "    join propertylandusetype using (propertylandusetypeid)\n",
    "    where propertylandusedesc in ('Single Family Residential');\n",
    "    '''\n",
    "    \n",
    "    filename = 'zillow.csv'\n",
    "\n",
    "    #call the check_file_exists fuction \n",
    "    df = check_file_exists(filename, query, url)\n",
    "    return df\n",
    "\n",
    "def prep_zillow(df):\n",
    "    \n",
    "    #drop all nulls\n",
    "    df = df.dropna()\n",
    "    \n",
    "    #change datatype of  exam1 and exam3 to integers\n",
    "    df.calculatedfinishedsquarefeet = df.calculatedfinishedsquarefeet.astype(int)\n",
    "    df.bedroomcnt = df.bedroomcnt.astype(int)\n",
    "    df.yearbuilt = df.yearbuilt.astype(int)\n",
    "    df.fips = df.fips.astype(int)\n",
    "    \n",
    "    #rename columns\n",
    "    df = df.rename(columns={df.columns[0]: 'bedrooms', df.columns[1]: 'bathrooms', df.columns[2]: 'square_feet',\\\n",
    "                   df.columns[3]: 'home_value', df.columns[5]: 'tax', df.columns[6]: 'county'})\n",
    "    \n",
    "    df.county = df.county.map({6037:'LA', 6059:'Orange', 6111:'Ventura'})\n",
    "    \n",
    "    return df\n",
    "\n",
    "def splitting_data(df):\n",
    "    '''\n",
    "    Takes in a df and a column (target variable) and splits into df, validate and test. \n",
    "    Ex: df, validate, test = prepare_telco.splitting_data(df, 'churn')\n",
    "    '''\n",
    "\n",
    "    #first split\n",
    "    train, validate_test = train_test_split(df,\n",
    "                     train_size=0.6,\n",
    "                     random_state=123\n",
    "                    )\n",
    "    \n",
    "    #second split\n",
    "    validate, test = train_test_split(validate_test,\n",
    "                                     train_size=0.5,\n",
    "                                      random_state=123\n",
    "                        )\n",
    "    return train, validate, test\n",
    "\n",
    "\n",
    "def wrangle_zillow():\n",
    "    train, validate, test=splitting_data(prep_zillow(get_zillow_data()))    \n",
    "    return train, validate, test"
   ]
  },
  {
   "cell_type": "code",
   "execution_count": 24,
   "id": "ba6ea42c",
   "metadata": {},
   "outputs": [
    {
     "name": "stdout",
     "output_type": "stream",
     "text": [
      "this file exists, reading csv\n"
     ]
    }
   ],
   "source": [
    "train, validate, test = wrangle_zillow()"
   ]
  },
  {
   "cell_type": "code",
   "execution_count": 25,
   "id": "a2177d35",
   "metadata": {},
   "outputs": [
    {
     "data": {
      "text/html": [
       "<div>\n",
       "<style scoped>\n",
       "    .dataframe tbody tr th:only-of-type {\n",
       "        vertical-align: middle;\n",
       "    }\n",
       "\n",
       "    .dataframe tbody tr th {\n",
       "        vertical-align: top;\n",
       "    }\n",
       "\n",
       "    .dataframe thead th {\n",
       "        text-align: right;\n",
       "    }\n",
       "</style>\n",
       "<table border=\"1\" class=\"dataframe\">\n",
       "  <thead>\n",
       "    <tr style=\"text-align: right;\">\n",
       "      <th></th>\n",
       "      <th>bedrooms</th>\n",
       "      <th>bathrooms</th>\n",
       "      <th>square_feet</th>\n",
       "      <th>home_value</th>\n",
       "      <th>yearbuilt</th>\n",
       "      <th>tax</th>\n",
       "      <th>county</th>\n",
       "    </tr>\n",
       "  </thead>\n",
       "  <tbody>\n",
       "    <tr>\n",
       "      <th>462820</th>\n",
       "      <td>5</td>\n",
       "      <td>4.0</td>\n",
       "      <td>3011</td>\n",
       "      <td>710674.0</td>\n",
       "      <td>2005</td>\n",
       "      <td>7561.14</td>\n",
       "      <td>Ventura</td>\n",
       "    </tr>\n",
       "    <tr>\n",
       "      <th>3880</th>\n",
       "      <td>3</td>\n",
       "      <td>2.0</td>\n",
       "      <td>1682</td>\n",
       "      <td>603333.0</td>\n",
       "      <td>1961</td>\n",
       "      <td>7086.19</td>\n",
       "      <td>LA</td>\n",
       "    </tr>\n",
       "    <tr>\n",
       "      <th>992263</th>\n",
       "      <td>4</td>\n",
       "      <td>2.0</td>\n",
       "      <td>1433</td>\n",
       "      <td>82804.0</td>\n",
       "      <td>1954</td>\n",
       "      <td>1134.83</td>\n",
       "      <td>LA</td>\n",
       "    </tr>\n",
       "    <tr>\n",
       "      <th>311722</th>\n",
       "      <td>3</td>\n",
       "      <td>2.5</td>\n",
       "      <td>2001</td>\n",
       "      <td>355444.0</td>\n",
       "      <td>1999</td>\n",
       "      <td>4174.92</td>\n",
       "      <td>Ventura</td>\n",
       "    </tr>\n",
       "    <tr>\n",
       "      <th>787985</th>\n",
       "      <td>4</td>\n",
       "      <td>2.0</td>\n",
       "      <td>2277</td>\n",
       "      <td>571000.0</td>\n",
       "      <td>1962</td>\n",
       "      <td>7113.02</td>\n",
       "      <td>LA</td>\n",
       "    </tr>\n",
       "  </tbody>\n",
       "</table>\n",
       "</div>"
      ],
      "text/plain": [
       "        bedrooms  bathrooms  square_feet  home_value  yearbuilt      tax  \\\n",
       "462820         5        4.0         3011    710674.0       2005  7561.14   \n",
       "3880           3        2.0         1682    603333.0       1961  7086.19   \n",
       "992263         4        2.0         1433     82804.0       1954  1134.83   \n",
       "311722         3        2.5         2001    355444.0       1999  4174.92   \n",
       "787985         4        2.0         2277    571000.0       1962  7113.02   \n",
       "\n",
       "         county  \n",
       "462820  Ventura  \n",
       "3880         LA  \n",
       "992263       LA  \n",
       "311722  Ventura  \n",
       "787985       LA  "
      ]
     },
     "execution_count": 25,
     "metadata": {},
     "output_type": "execute_result"
    }
   ],
   "source": [
    "train.head()"
   ]
  },
  {
   "cell_type": "code",
   "execution_count": 26,
   "id": "5d960910",
   "metadata": {},
   "outputs": [
    {
     "data": {
      "text/plain": [
       "bedrooms         int64\n",
       "bathrooms      float64\n",
       "square_feet      int64\n",
       "home_value     float64\n",
       "yearbuilt        int64\n",
       "tax            float64\n",
       "county          object\n",
       "dtype: object"
      ]
     },
     "execution_count": 26,
     "metadata": {},
     "output_type": "execute_result"
    }
   ],
   "source": [
    "train.dtypes"
   ]
  },
  {
   "cell_type": "code",
   "execution_count": null,
   "id": "a81f0132",
   "metadata": {},
   "outputs": [],
   "source": []
  }
 ],
 "metadata": {
  "kernelspec": {
   "display_name": "Python 3 (ipykernel)",
   "language": "python",
   "name": "python3"
  },
  "language_info": {
   "codemirror_mode": {
    "name": "ipython",
    "version": 3
   },
   "file_extension": ".py",
   "mimetype": "text/x-python",
   "name": "python",
   "nbconvert_exporter": "python",
   "pygments_lexer": "ipython3",
   "version": "3.11.5"
  }
 },
 "nbformat": 4,
 "nbformat_minor": 5
}
